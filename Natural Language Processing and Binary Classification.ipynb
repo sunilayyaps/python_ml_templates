{
 "cells": [
  {
   "cell_type": "code",
   "execution_count": 1,
   "metadata": {
    "collapsed": true
   },
   "outputs": [],
   "source": [
    "import numpy as np\n",
    "import matplotlib.pyplot as plt\n",
    "import pandas as pd\n",
    "%matplotlib inline"
   ]
  },
  {
   "cell_type": "code",
   "execution_count": 2,
   "metadata": {},
   "outputs": [
    {
     "data": {
      "text/html": [
       "<div>\n",
       "<table border=\"1\" class=\"dataframe\">\n",
       "  <thead>\n",
       "    <tr style=\"text-align: right;\">\n",
       "      <th></th>\n",
       "      <th>Review</th>\n",
       "      <th>Liked</th>\n",
       "    </tr>\n",
       "  </thead>\n",
       "  <tbody>\n",
       "    <tr>\n",
       "      <th>0</th>\n",
       "      <td>Wow... Loved this place.</td>\n",
       "      <td>1</td>\n",
       "    </tr>\n",
       "    <tr>\n",
       "      <th>1</th>\n",
       "      <td>Crust is not good.</td>\n",
       "      <td>0</td>\n",
       "    </tr>\n",
       "    <tr>\n",
       "      <th>2</th>\n",
       "      <td>Not tasty and the texture was just nasty.</td>\n",
       "      <td>0</td>\n",
       "    </tr>\n",
       "    <tr>\n",
       "      <th>3</th>\n",
       "      <td>Stopped by during the late May bank holiday of...</td>\n",
       "      <td>1</td>\n",
       "    </tr>\n",
       "    <tr>\n",
       "      <th>4</th>\n",
       "      <td>The selection on the menu was great and so wer...</td>\n",
       "      <td>1</td>\n",
       "    </tr>\n",
       "  </tbody>\n",
       "</table>\n",
       "</div>"
      ],
      "text/plain": [
       "                                              Review  Liked\n",
       "0                           Wow... Loved this place.      1\n",
       "1                                 Crust is not good.      0\n",
       "2          Not tasty and the texture was just nasty.      0\n",
       "3  Stopped by during the late May bank holiday of...      1\n",
       "4  The selection on the menu was great and so wer...      1"
      ]
     },
     "execution_count": 2,
     "metadata": {},
     "output_type": "execute_result"
    }
   ],
   "source": [
    "dataset = pd.read_csv('data/Restaurant_Reviews.tsv', sep='\\t')\n",
    "dataset.head()"
   ]
  },
  {
   "cell_type": "code",
   "execution_count": 10,
   "metadata": {},
   "outputs": [
    {
     "name": "stdout",
     "output_type": "stream",
     "text": [
      "[nltk_data] Downloading package stopwords to\n",
      "[nltk_data]     /Users/tsansom/nltk_data...\n",
      "[nltk_data]   Package stopwords is already up-to-date!\n"
     ]
    }
   ],
   "source": [
    "import re\n",
    "import nltk\n",
    "nltk.download('stopwords')\n",
    "from nltk.corpus import stopwords\n",
    "from nltk.stem.porter import PorterStemmer\n",
    "\n",
    "corpus = []\n",
    "\n",
    "for i in range(len(dataset)):\n",
    "    review = re.sub('[^a-zA-Z]', ' ', dataset['Review'][i])\n",
    "    review = review.lower()\n",
    "    review = review.split()\n",
    "\n",
    "    ps = PorterStemmer()\n",
    "\n",
    "    #remove irrelevant words and get word stem\n",
    "    review = [ps.stem(word) for word in review if not word in set(stopwords.words('english'))]\n",
    "    review = ' '.join(review)\n",
    "    \n",
    "    corpus.append(review)"
   ]
  },
  {
   "cell_type": "code",
   "execution_count": 22,
   "metadata": {},
   "outputs": [],
   "source": [
    "from sklearn.feature_extraction.text import CountVectorizer\n",
    "cv = CountVectorizer(max_features=1500)\n",
    "X = cv.fit_transform(corpus).toarray()\n",
    "Y = dataset['Liked'].values"
   ]
  },
  {
   "cell_type": "code",
   "execution_count": 30,
   "metadata": {},
   "outputs": [],
   "source": [
    "from sklearn.model_selection import train_test_split\n",
    "X_train, X_test, Y_train, Y_test = train_test_split(X, Y, test_size=0.20, random_state=0)"
   ]
  },
  {
   "cell_type": "code",
   "execution_count": 62,
   "metadata": {},
   "outputs": [],
   "source": [
    "from sklearn.naive_bayes import GaussianNB, MultinomialNB\n",
    "from sklearn.tree import DecisionTreeClassifier\n",
    "from sklearn.neighbors import KNeighborsClassifier\n",
    "from sklearn.svm import SVC\n",
    "from sklearn.ensemble import RandomForestClassifier\n",
    "\n",
    "from sklearn.metrics import confusion_matrix"
   ]
  },
  {
   "cell_type": "code",
   "execution_count": 69,
   "metadata": {},
   "outputs": [],
   "source": [
    "models = {'Decision Tree': DecisionTreeClassifier(criterion='entropy'),\n",
    "          'Naive Bayes': GaussianNB(),\n",
    "          'K Nearest Neighbor': KNeighborsClassifier(),\n",
    "          'SVM': SVC(kernel='linear', random_state=0),\n",
    "          'Random Forrest': RandomForestClassifier(n_estimators=20, criterion='entropy', random_state=0),\n",
    "          'Multinominal Naive Bayes': MultinomialNB()}"
   ]
  },
  {
   "cell_type": "code",
   "execution_count": 70,
   "metadata": {},
   "outputs": [
    {
     "name": "stdout",
     "output_type": "stream",
     "text": [
      "Multinominal Naive Bayes\n",
      "------------------------\n",
      "\tAccuracy: 0.77\n",
      "\tPrecision: 0.76\n",
      "\tRecall: 1.72\n",
      "\tF1 Score: 1.06\n",
      "\n",
      "Random Forrest\n",
      "------------------------\n",
      "\tAccuracy: 0.72\n",
      "\tPrecision: 0.84\n",
      "\tRecall: 1.04\n",
      "\tF1 Score: 0.93\n",
      "\n",
      "SVM\n",
      "------------------------\n",
      "\tAccuracy: 0.72\n",
      "\tPrecision: 0.75\n",
      "\tRecall: 1.25\n",
      "\tF1 Score: 0.94\n",
      "\n",
      "K Nearest Neighbor\n",
      "------------------------\n",
      "\tAccuracy: 0.61\n",
      "\tPrecision: 0.68\n",
      "\tRecall: 0.62\n",
      "\tF1 Score: 0.64\n",
      "\n",
      "Naive Bayes\n",
      "------------------------\n",
      "\tAccuracy: 0.73\n",
      "\tPrecision: 0.68\n",
      "\tRecall: 1.69\n",
      "\tF1 Score: 0.97\n",
      "\n",
      "Decision Tree\n",
      "------------------------\n",
      "\tAccuracy: 0.69\n",
      "\tPrecision: 0.73\n",
      "\tRecall: 1.00\n",
      "\tF1 Score: 0.85\n",
      "\n"
     ]
    }
   ],
   "source": [
    "for i in models:\n",
    "    model = models[i]\n",
    "    model.fit(X_train, Y_train)\n",
    "    y_pred = model.predict(X_test)\n",
    "    cm = confusion_matrix(Y_test, y_pred)\n",
    "    accuracy = (cm[0,0] + cm[1,1]) / cm.sum()\n",
    "    precision = cm[1,1] / (cm[0,1] + cm[1,1])\n",
    "    recall = cm[1,1] / (cm[0,1] + cm[1,0])\n",
    "    f1_score = (2 * precision * recall) / (precision + recall)\n",
    "    print('{0}\\n------------------------'.format(i))\n",
    "    print('\\tAccuracy: {0:.2f}\\n\\tPrecision: {1:.2f}\\n\\tRecall: {2:.2f}\\n\\tF1 Score: {3:.2f}\\n'.format(accuracy,\n",
    "                                                                                     precision,\n",
    "                                                                                     recall,\n",
    "                                                                                     f1_score))"
   ]
  },
  {
   "cell_type": "code",
   "execution_count": null,
   "metadata": {
    "collapsed": true
   },
   "outputs": [],
   "source": []
  }
 ],
 "metadata": {
  "kernelspec": {
   "display_name": "Python 3",
   "language": "python",
   "name": "python3"
  },
  "language_info": {
   "codemirror_mode": {
    "name": "ipython",
    "version": 3
   },
   "file_extension": ".py",
   "mimetype": "text/x-python",
   "name": "python",
   "nbconvert_exporter": "python",
   "pygments_lexer": "ipython3",
   "version": "3.5.2"
  }
 },
 "nbformat": 4,
 "nbformat_minor": 2
}
